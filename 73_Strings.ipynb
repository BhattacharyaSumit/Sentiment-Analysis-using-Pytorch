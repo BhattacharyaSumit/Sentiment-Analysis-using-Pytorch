{
  "nbformat": 4,
  "nbformat_minor": 0,
  "metadata": {
    "colab": {
      "name": "73 Strings.ipynb",
      "version": "0.3.2",
      "provenance": [],
      "collapsed_sections": []
    },
    "kernelspec": {
      "name": "python3",
      "display_name": "Python 3"
    },
    "accelerator": "GPU"
  },
  "cells": [
    {
      "metadata": {
        "id": "H97eNzWut6wq",
        "colab_type": "code",
        "colab": {}
      },
      "cell_type": "code",
      "source": [
        "import pandas as pd\n",
        "import numpy as np"
      ],
      "execution_count": 0,
      "outputs": []
    },
    {
      "metadata": {
        "id": "pKGsooKcB_Bi",
        "colab_type": "code",
        "colab": {}
      },
      "cell_type": "code",
      "source": [
        "training = pd.read_excel('Training Data.xlsx')"
      ],
      "execution_count": 0,
      "outputs": []
    },
    {
      "metadata": {
        "id": "MXnpBQiXCfoR",
        "colab_type": "code",
        "outputId": "e59af522-e0a9-4666-ccb2-98522161d6e4",
        "colab": {
          "base_uri": "https://localhost:8080/",
          "height": 547
        }
      },
      "cell_type": "code",
      "source": [
        "training.head()"
      ],
      "execution_count": 3,
      "outputs": [
        {
          "output_type": "execute_result",
          "data": {
            "text/html": [
              "<div>\n",
              "<style scoped>\n",
              "    .dataframe tbody tr th:only-of-type {\n",
              "        vertical-align: middle;\n",
              "    }\n",
              "\n",
              "    .dataframe tbody tr th {\n",
              "        vertical-align: top;\n",
              "    }\n",
              "\n",
              "    .dataframe thead th {\n",
              "        text-align: right;\n",
              "    }\n",
              "</style>\n",
              "<table border=\"1\" class=\"dataframe\">\n",
              "  <thead>\n",
              "    <tr style=\"text-align: right;\">\n",
              "      <th></th>\n",
              "      <th>Company Name</th>\n",
              "      <th>Exchange:Ticker</th>\n",
              "      <th>Company Type</th>\n",
              "      <th>Company Status</th>\n",
              "      <th>Geographic Locations</th>\n",
              "      <th>Business Description</th>\n",
              "      <th>Industry Classifications</th>\n",
              "      <th>Security Tickers</th>\n",
              "    </tr>\n",
              "  </thead>\n",
              "  <tbody>\n",
              "    <tr>\n",
              "      <th>0</th>\n",
              "      <td>024 Pharma, Inc. (OTCPK:EEIG)</td>\n",
              "      <td>OTCPK:EEIG</td>\n",
              "      <td>Public Company</td>\n",
              "      <td>Operating</td>\n",
              "      <td>United States of America (Primary)</td>\n",
              "      <td>024 Pharma, Inc. provides healthcare products ...</td>\n",
              "      <td>Beauty Care Products (Primary); Consumer Stapl...</td>\n",
              "      <td>OTCPK:EEIG</td>\n",
              "    </tr>\n",
              "    <tr>\n",
              "      <th>1</th>\n",
              "      <td>1-800-FLOWERS.COM, Inc. (NasdaqGS:FLWS)</td>\n",
              "      <td>NasdaqGS:FLWS</td>\n",
              "      <td>Public Company</td>\n",
              "      <td>Operating</td>\n",
              "      <td>United States of America (Primary)</td>\n",
              "      <td>1-800-Flowers.com, Inc., together with its sub...</td>\n",
              "      <td>Catalog Flowers, Gifts and Novelties (Primary)...</td>\n",
              "      <td>NasdaqGS:FLWS; DB:FWC</td>\n",
              "    </tr>\n",
              "    <tr>\n",
              "      <th>2</th>\n",
              "      <td>12 Retech Corporation (OTCPK:RETC)</td>\n",
              "      <td>OTCPK:RETC</td>\n",
              "      <td>Public Company</td>\n",
              "      <td>Operating</td>\n",
              "      <td>United States of America (Primary)</td>\n",
              "      <td>12 Retech Corporation, through its subsidiarie...</td>\n",
              "      <td>Information Technology (Primary); Internet Sof...</td>\n",
              "      <td>OTCPK:RETC</td>\n",
              "    </tr>\n",
              "    <tr>\n",
              "      <th>3</th>\n",
              "      <td>1347 Property Insurance Holdings, Inc. (Nasdaq...</td>\n",
              "      <td>NasdaqGM:PIH</td>\n",
              "      <td>Public Company</td>\n",
              "      <td>Operating</td>\n",
              "      <td>United States of America (Primary)</td>\n",
              "      <td>1347 Property Insurance Holdings, Inc., throug...</td>\n",
              "      <td>Casualty (Primary); Financials (Primary); Fire...</td>\n",
              "      <td>NasdaqGM:PIH</td>\n",
              "    </tr>\n",
              "    <tr>\n",
              "      <th>4</th>\n",
              "      <td>1847 Holdings LLC (OTCPK:EFSH)</td>\n",
              "      <td>OTCPK:EFSH</td>\n",
              "      <td>Public Company</td>\n",
              "      <td>Operating</td>\n",
              "      <td>United States of America (Primary)</td>\n",
              "      <td>1847 Holdings LLC, through its subsidiaries, p...</td>\n",
              "      <td>Commercial and Professional Services (Primary)...</td>\n",
              "      <td>OTCPK:EFSH</td>\n",
              "    </tr>\n",
              "  </tbody>\n",
              "</table>\n",
              "</div>"
            ],
            "text/plain": [
              "                                        Company Name Exchange:Ticker  \\\n",
              "0                      024 Pharma, Inc. (OTCPK:EEIG)      OTCPK:EEIG   \n",
              "1            1-800-FLOWERS.COM, Inc. (NasdaqGS:FLWS)   NasdaqGS:FLWS   \n",
              "2                 12 Retech Corporation (OTCPK:RETC)      OTCPK:RETC   \n",
              "3  1347 Property Insurance Holdings, Inc. (Nasdaq...    NasdaqGM:PIH   \n",
              "4                     1847 Holdings LLC (OTCPK:EFSH)      OTCPK:EFSH   \n",
              "\n",
              "     Company Type Company Status                Geographic Locations  \\\n",
              "0  Public Company      Operating  United States of America (Primary)   \n",
              "1  Public Company      Operating  United States of America (Primary)   \n",
              "2  Public Company      Operating  United States of America (Primary)   \n",
              "3  Public Company      Operating  United States of America (Primary)   \n",
              "4  Public Company      Operating  United States of America (Primary)   \n",
              "\n",
              "                                Business Description  \\\n",
              "0  024 Pharma, Inc. provides healthcare products ...   \n",
              "1  1-800-Flowers.com, Inc., together with its sub...   \n",
              "2  12 Retech Corporation, through its subsidiarie...   \n",
              "3  1347 Property Insurance Holdings, Inc., throug...   \n",
              "4  1847 Holdings LLC, through its subsidiaries, p...   \n",
              "\n",
              "                            Industry Classifications       Security Tickers  \n",
              "0  Beauty Care Products (Primary); Consumer Stapl...             OTCPK:EEIG  \n",
              "1  Catalog Flowers, Gifts and Novelties (Primary)...  NasdaqGS:FLWS; DB:FWC  \n",
              "2  Information Technology (Primary); Internet Sof...             OTCPK:RETC  \n",
              "3  Casualty (Primary); Financials (Primary); Fire...           NasdaqGM:PIH  \n",
              "4  Commercial and Professional Services (Primary)...             OTCPK:EFSH  "
            ]
          },
          "metadata": {
            "tags": []
          },
          "execution_count": 3
        }
      ]
    },
    {
      "metadata": {
        "id": "UhDWF4DNC1S0",
        "colab_type": "code",
        "colab": {}
      },
      "cell_type": "code",
      "source": [
        "comp_desc = pd.ExcelFile('Company_ Business Description.xlsx')"
      ],
      "execution_count": 0,
      "outputs": []
    },
    {
      "metadata": {
        "id": "1vSfHygoEc8S",
        "colab_type": "code",
        "colab": {}
      },
      "cell_type": "code",
      "source": [
        "testing = comp_desc.parse(0)"
      ],
      "execution_count": 0,
      "outputs": []
    },
    {
      "metadata": {
        "id": "gT7vRXvGHG6a",
        "colab_type": "code",
        "outputId": "a4490766-0998-4642-fb42-41b6eba01a80",
        "colab": {
          "base_uri": "https://localhost:8080/",
          "height": 459
        }
      },
      "cell_type": "code",
      "source": [
        "testing.head()"
      ],
      "execution_count": 6,
      "outputs": [
        {
          "output_type": "execute_result",
          "data": {
            "text/html": [
              "<div>\n",
              "<style scoped>\n",
              "    .dataframe tbody tr th:only-of-type {\n",
              "        vertical-align: middle;\n",
              "    }\n",
              "\n",
              "    .dataframe tbody tr th {\n",
              "        vertical-align: top;\n",
              "    }\n",
              "\n",
              "    .dataframe thead th {\n",
              "        text-align: right;\n",
              "    }\n",
              "</style>\n",
              "<table border=\"1\" class=\"dataframe\">\n",
              "  <thead>\n",
              "    <tr style=\"text-align: right;\">\n",
              "      <th></th>\n",
              "      <th>Company Name</th>\n",
              "      <th>Exchange:Ticker</th>\n",
              "      <th>Company Type</th>\n",
              "      <th>Company Status</th>\n",
              "      <th>Geographic Locations</th>\n",
              "      <th>Business Description</th>\n",
              "      <th>Security Tickers</th>\n",
              "    </tr>\n",
              "  </thead>\n",
              "  <tbody>\n",
              "    <tr>\n",
              "      <th>0</th>\n",
              "      <td>024 Pharma, Inc. (OTCPK:EEIG)</td>\n",
              "      <td>OTCPK:EEIG</td>\n",
              "      <td>Public Company</td>\n",
              "      <td>Operating</td>\n",
              "      <td>United States of America (Primary)</td>\n",
              "      <td>024 Pharma, Inc. provides healthcare products ...</td>\n",
              "      <td>OTCPK:EEIG</td>\n",
              "    </tr>\n",
              "    <tr>\n",
              "      <th>1</th>\n",
              "      <td>1-800-FLOWERS.COM, Inc. (NasdaqGS:FLWS)</td>\n",
              "      <td>NasdaqGS:FLWS</td>\n",
              "      <td>Public Company</td>\n",
              "      <td>Operating</td>\n",
              "      <td>United States of America (Primary)</td>\n",
              "      <td>1-800-Flowers.com, Inc., together with its sub...</td>\n",
              "      <td>NasdaqGS:FLWS; DB:FWC</td>\n",
              "    </tr>\n",
              "    <tr>\n",
              "      <th>2</th>\n",
              "      <td>12 Retech Corporation (OTCPK:RETC)</td>\n",
              "      <td>OTCPK:RETC</td>\n",
              "      <td>Public Company</td>\n",
              "      <td>Operating</td>\n",
              "      <td>United States of America (Primary)</td>\n",
              "      <td>12 Retech Corporation, through its subsidiarie...</td>\n",
              "      <td>OTCPK:RETC</td>\n",
              "    </tr>\n",
              "    <tr>\n",
              "      <th>3</th>\n",
              "      <td>1347 Property Insurance Holdings, Inc. (Nasdaq...</td>\n",
              "      <td>NasdaqGM:PIH</td>\n",
              "      <td>Public Company</td>\n",
              "      <td>Operating</td>\n",
              "      <td>United States of America (Primary)</td>\n",
              "      <td>1347 Property Insurance Holdings, Inc., throug...</td>\n",
              "      <td>NasdaqGM:PIH</td>\n",
              "    </tr>\n",
              "    <tr>\n",
              "      <th>4</th>\n",
              "      <td>1847 Holdings LLC (OTCPK:EFSH)</td>\n",
              "      <td>OTCPK:EFSH</td>\n",
              "      <td>Public Company</td>\n",
              "      <td>Operating</td>\n",
              "      <td>United States of America (Primary)</td>\n",
              "      <td>1847 Holdings LLC, through its subsidiaries, p...</td>\n",
              "      <td>OTCPK:EFSH</td>\n",
              "    </tr>\n",
              "  </tbody>\n",
              "</table>\n",
              "</div>"
            ],
            "text/plain": [
              "                                        Company Name Exchange:Ticker  \\\n",
              "0                      024 Pharma, Inc. (OTCPK:EEIG)      OTCPK:EEIG   \n",
              "1            1-800-FLOWERS.COM, Inc. (NasdaqGS:FLWS)   NasdaqGS:FLWS   \n",
              "2                 12 Retech Corporation (OTCPK:RETC)      OTCPK:RETC   \n",
              "3  1347 Property Insurance Holdings, Inc. (Nasdaq...    NasdaqGM:PIH   \n",
              "4                     1847 Holdings LLC (OTCPK:EFSH)      OTCPK:EFSH   \n",
              "\n",
              "     Company Type Company Status                Geographic Locations  \\\n",
              "0  Public Company      Operating  United States of America (Primary)   \n",
              "1  Public Company      Operating  United States of America (Primary)   \n",
              "2  Public Company      Operating  United States of America (Primary)   \n",
              "3  Public Company      Operating  United States of America (Primary)   \n",
              "4  Public Company      Operating  United States of America (Primary)   \n",
              "\n",
              "                                Business Description       Security Tickers  \n",
              "0  024 Pharma, Inc. provides healthcare products ...             OTCPK:EEIG  \n",
              "1  1-800-Flowers.com, Inc., together with its sub...  NasdaqGS:FLWS; DB:FWC  \n",
              "2  12 Retech Corporation, through its subsidiarie...             OTCPK:RETC  \n",
              "3  1347 Property Insurance Holdings, Inc., throug...           NasdaqGM:PIH  \n",
              "4  1847 Holdings LLC, through its subsidiaries, p...             OTCPK:EFSH  "
            ]
          },
          "metadata": {
            "tags": []
          },
          "execution_count": 6
        }
      ]
    },
    {
      "metadata": {
        "id": "QHNrI5DWEkjt",
        "colab_type": "code",
        "outputId": "649c37f0-d713-4be7-f480-0bfcd3b487f4",
        "colab": {
          "base_uri": "https://localhost:8080/",
          "height": 459
        }
      },
      "cell_type": "code",
      "source": [
        "testing.head()"
      ],
      "execution_count": 7,
      "outputs": [
        {
          "output_type": "execute_result",
          "data": {
            "text/html": [
              "<div>\n",
              "<style scoped>\n",
              "    .dataframe tbody tr th:only-of-type {\n",
              "        vertical-align: middle;\n",
              "    }\n",
              "\n",
              "    .dataframe tbody tr th {\n",
              "        vertical-align: top;\n",
              "    }\n",
              "\n",
              "    .dataframe thead th {\n",
              "        text-align: right;\n",
              "    }\n",
              "</style>\n",
              "<table border=\"1\" class=\"dataframe\">\n",
              "  <thead>\n",
              "    <tr style=\"text-align: right;\">\n",
              "      <th></th>\n",
              "      <th>Company Name</th>\n",
              "      <th>Exchange:Ticker</th>\n",
              "      <th>Company Type</th>\n",
              "      <th>Company Status</th>\n",
              "      <th>Geographic Locations</th>\n",
              "      <th>Business Description</th>\n",
              "      <th>Security Tickers</th>\n",
              "    </tr>\n",
              "  </thead>\n",
              "  <tbody>\n",
              "    <tr>\n",
              "      <th>0</th>\n",
              "      <td>024 Pharma, Inc. (OTCPK:EEIG)</td>\n",
              "      <td>OTCPK:EEIG</td>\n",
              "      <td>Public Company</td>\n",
              "      <td>Operating</td>\n",
              "      <td>United States of America (Primary)</td>\n",
              "      <td>024 Pharma, Inc. provides healthcare products ...</td>\n",
              "      <td>OTCPK:EEIG</td>\n",
              "    </tr>\n",
              "    <tr>\n",
              "      <th>1</th>\n",
              "      <td>1-800-FLOWERS.COM, Inc. (NasdaqGS:FLWS)</td>\n",
              "      <td>NasdaqGS:FLWS</td>\n",
              "      <td>Public Company</td>\n",
              "      <td>Operating</td>\n",
              "      <td>United States of America (Primary)</td>\n",
              "      <td>1-800-Flowers.com, Inc., together with its sub...</td>\n",
              "      <td>NasdaqGS:FLWS; DB:FWC</td>\n",
              "    </tr>\n",
              "    <tr>\n",
              "      <th>2</th>\n",
              "      <td>12 Retech Corporation (OTCPK:RETC)</td>\n",
              "      <td>OTCPK:RETC</td>\n",
              "      <td>Public Company</td>\n",
              "      <td>Operating</td>\n",
              "      <td>United States of America (Primary)</td>\n",
              "      <td>12 Retech Corporation, through its subsidiarie...</td>\n",
              "      <td>OTCPK:RETC</td>\n",
              "    </tr>\n",
              "    <tr>\n",
              "      <th>3</th>\n",
              "      <td>1347 Property Insurance Holdings, Inc. (Nasdaq...</td>\n",
              "      <td>NasdaqGM:PIH</td>\n",
              "      <td>Public Company</td>\n",
              "      <td>Operating</td>\n",
              "      <td>United States of America (Primary)</td>\n",
              "      <td>1347 Property Insurance Holdings, Inc., throug...</td>\n",
              "      <td>NasdaqGM:PIH</td>\n",
              "    </tr>\n",
              "    <tr>\n",
              "      <th>4</th>\n",
              "      <td>1847 Holdings LLC (OTCPK:EFSH)</td>\n",
              "      <td>OTCPK:EFSH</td>\n",
              "      <td>Public Company</td>\n",
              "      <td>Operating</td>\n",
              "      <td>United States of America (Primary)</td>\n",
              "      <td>1847 Holdings LLC, through its subsidiaries, p...</td>\n",
              "      <td>OTCPK:EFSH</td>\n",
              "    </tr>\n",
              "  </tbody>\n",
              "</table>\n",
              "</div>"
            ],
            "text/plain": [
              "                                        Company Name Exchange:Ticker  \\\n",
              "0                      024 Pharma, Inc. (OTCPK:EEIG)      OTCPK:EEIG   \n",
              "1            1-800-FLOWERS.COM, Inc. (NasdaqGS:FLWS)   NasdaqGS:FLWS   \n",
              "2                 12 Retech Corporation (OTCPK:RETC)      OTCPK:RETC   \n",
              "3  1347 Property Insurance Holdings, Inc. (Nasdaq...    NasdaqGM:PIH   \n",
              "4                     1847 Holdings LLC (OTCPK:EFSH)      OTCPK:EFSH   \n",
              "\n",
              "     Company Type Company Status                Geographic Locations  \\\n",
              "0  Public Company      Operating  United States of America (Primary)   \n",
              "1  Public Company      Operating  United States of America (Primary)   \n",
              "2  Public Company      Operating  United States of America (Primary)   \n",
              "3  Public Company      Operating  United States of America (Primary)   \n",
              "4  Public Company      Operating  United States of America (Primary)   \n",
              "\n",
              "                                Business Description       Security Tickers  \n",
              "0  024 Pharma, Inc. provides healthcare products ...             OTCPK:EEIG  \n",
              "1  1-800-Flowers.com, Inc., together with its sub...  NasdaqGS:FLWS; DB:FWC  \n",
              "2  12 Retech Corporation, through its subsidiarie...             OTCPK:RETC  \n",
              "3  1347 Property Insurance Holdings, Inc., throug...           NasdaqGM:PIH  \n",
              "4  1847 Holdings LLC, through its subsidiaries, p...             OTCPK:EFSH  "
            ]
          },
          "metadata": {
            "tags": []
          },
          "execution_count": 7
        }
      ]
    },
    {
      "metadata": {
        "id": "KuxTaiz3E3pO",
        "colab_type": "code",
        "colab": {}
      },
      "cell_type": "code",
      "source": [
        "Industry = training['Industry Classifications']"
      ],
      "execution_count": 0,
      "outputs": []
    },
    {
      "metadata": {
        "id": "-PSNEhlZw1Gu",
        "colab_type": "text"
      },
      "cell_type": "markdown",
      "source": [
        "Here, I will just take the 1st entries(as per the instruction ) of each row in Industry Classifications"
      ]
    },
    {
      "metadata": {
        "id": "g_bpq6N2FZj7",
        "colab_type": "code",
        "colab": {}
      },
      "cell_type": "code",
      "source": [
        "Clean_Class = []"
      ],
      "execution_count": 0,
      "outputs": []
    },
    {
      "metadata": {
        "id": "K8hRscnnFgAC",
        "colab_type": "code",
        "colab": {}
      },
      "cell_type": "code",
      "source": [
        "for i in range(len(Industry)):\n",
        "  temp = Industry[i].split(';')[0]\n",
        "  Clean_Class.append(temp)"
      ],
      "execution_count": 0,
      "outputs": []
    },
    {
      "metadata": {
        "id": "R7ju5KsyFHga",
        "colab_type": "code",
        "colab": {}
      },
      "cell_type": "code",
      "source": [
        "training['Industry Classifications'] = Clean_Class"
      ],
      "execution_count": 0,
      "outputs": []
    },
    {
      "metadata": {
        "id": "BRbWVuslGznD",
        "colab_type": "code",
        "outputId": "29011c88-b281-4d99-e193-a01949875fb0",
        "colab": {
          "base_uri": "https://localhost:8080/",
          "height": 547
        }
      },
      "cell_type": "code",
      "source": [
        "training.head()"
      ],
      "execution_count": 12,
      "outputs": [
        {
          "output_type": "execute_result",
          "data": {
            "text/html": [
              "<div>\n",
              "<style scoped>\n",
              "    .dataframe tbody tr th:only-of-type {\n",
              "        vertical-align: middle;\n",
              "    }\n",
              "\n",
              "    .dataframe tbody tr th {\n",
              "        vertical-align: top;\n",
              "    }\n",
              "\n",
              "    .dataframe thead th {\n",
              "        text-align: right;\n",
              "    }\n",
              "</style>\n",
              "<table border=\"1\" class=\"dataframe\">\n",
              "  <thead>\n",
              "    <tr style=\"text-align: right;\">\n",
              "      <th></th>\n",
              "      <th>Company Name</th>\n",
              "      <th>Exchange:Ticker</th>\n",
              "      <th>Company Type</th>\n",
              "      <th>Company Status</th>\n",
              "      <th>Geographic Locations</th>\n",
              "      <th>Business Description</th>\n",
              "      <th>Industry Classifications</th>\n",
              "      <th>Security Tickers</th>\n",
              "    </tr>\n",
              "  </thead>\n",
              "  <tbody>\n",
              "    <tr>\n",
              "      <th>0</th>\n",
              "      <td>024 Pharma, Inc. (OTCPK:EEIG)</td>\n",
              "      <td>OTCPK:EEIG</td>\n",
              "      <td>Public Company</td>\n",
              "      <td>Operating</td>\n",
              "      <td>United States of America (Primary)</td>\n",
              "      <td>024 Pharma, Inc. provides healthcare products ...</td>\n",
              "      <td>Beauty Care Products (Primary)</td>\n",
              "      <td>OTCPK:EEIG</td>\n",
              "    </tr>\n",
              "    <tr>\n",
              "      <th>1</th>\n",
              "      <td>1-800-FLOWERS.COM, Inc. (NasdaqGS:FLWS)</td>\n",
              "      <td>NasdaqGS:FLWS</td>\n",
              "      <td>Public Company</td>\n",
              "      <td>Operating</td>\n",
              "      <td>United States of America (Primary)</td>\n",
              "      <td>1-800-Flowers.com, Inc., together with its sub...</td>\n",
              "      <td>Catalog Flowers, Gifts and Novelties (Primary)</td>\n",
              "      <td>NasdaqGS:FLWS; DB:FWC</td>\n",
              "    </tr>\n",
              "    <tr>\n",
              "      <th>2</th>\n",
              "      <td>12 Retech Corporation (OTCPK:RETC)</td>\n",
              "      <td>OTCPK:RETC</td>\n",
              "      <td>Public Company</td>\n",
              "      <td>Operating</td>\n",
              "      <td>United States of America (Primary)</td>\n",
              "      <td>12 Retech Corporation, through its subsidiarie...</td>\n",
              "      <td>Information Technology (Primary)</td>\n",
              "      <td>OTCPK:RETC</td>\n",
              "    </tr>\n",
              "    <tr>\n",
              "      <th>3</th>\n",
              "      <td>1347 Property Insurance Holdings, Inc. (Nasdaq...</td>\n",
              "      <td>NasdaqGM:PIH</td>\n",
              "      <td>Public Company</td>\n",
              "      <td>Operating</td>\n",
              "      <td>United States of America (Primary)</td>\n",
              "      <td>1347 Property Insurance Holdings, Inc., throug...</td>\n",
              "      <td>Casualty (Primary)</td>\n",
              "      <td>NasdaqGM:PIH</td>\n",
              "    </tr>\n",
              "    <tr>\n",
              "      <th>4</th>\n",
              "      <td>1847 Holdings LLC (OTCPK:EFSH)</td>\n",
              "      <td>OTCPK:EFSH</td>\n",
              "      <td>Public Company</td>\n",
              "      <td>Operating</td>\n",
              "      <td>United States of America (Primary)</td>\n",
              "      <td>1847 Holdings LLC, through its subsidiaries, p...</td>\n",
              "      <td>Commercial and Professional Services (Primary)</td>\n",
              "      <td>OTCPK:EFSH</td>\n",
              "    </tr>\n",
              "  </tbody>\n",
              "</table>\n",
              "</div>"
            ],
            "text/plain": [
              "                                        Company Name Exchange:Ticker  \\\n",
              "0                      024 Pharma, Inc. (OTCPK:EEIG)      OTCPK:EEIG   \n",
              "1            1-800-FLOWERS.COM, Inc. (NasdaqGS:FLWS)   NasdaqGS:FLWS   \n",
              "2                 12 Retech Corporation (OTCPK:RETC)      OTCPK:RETC   \n",
              "3  1347 Property Insurance Holdings, Inc. (Nasdaq...    NasdaqGM:PIH   \n",
              "4                     1847 Holdings LLC (OTCPK:EFSH)      OTCPK:EFSH   \n",
              "\n",
              "     Company Type Company Status                Geographic Locations  \\\n",
              "0  Public Company      Operating  United States of America (Primary)   \n",
              "1  Public Company      Operating  United States of America (Primary)   \n",
              "2  Public Company      Operating  United States of America (Primary)   \n",
              "3  Public Company      Operating  United States of America (Primary)   \n",
              "4  Public Company      Operating  United States of America (Primary)   \n",
              "\n",
              "                                Business Description  \\\n",
              "0  024 Pharma, Inc. provides healthcare products ...   \n",
              "1  1-800-Flowers.com, Inc., together with its sub...   \n",
              "2  12 Retech Corporation, through its subsidiarie...   \n",
              "3  1347 Property Insurance Holdings, Inc., throug...   \n",
              "4  1847 Holdings LLC, through its subsidiaries, p...   \n",
              "\n",
              "                         Industry Classifications       Security Tickers  \n",
              "0                  Beauty Care Products (Primary)             OTCPK:EEIG  \n",
              "1  Catalog Flowers, Gifts and Novelties (Primary)  NasdaqGS:FLWS; DB:FWC  \n",
              "2                Information Technology (Primary)             OTCPK:RETC  \n",
              "3                              Casualty (Primary)           NasdaqGM:PIH  \n",
              "4  Commercial and Professional Services (Primary)             OTCPK:EFSH  "
            ]
          },
          "metadata": {
            "tags": []
          },
          "execution_count": 12
        }
      ]
    },
    {
      "metadata": {
        "id": "D4UejNMEHgME",
        "colab_type": "code",
        "outputId": "71c20854-9e7b-483a-8044-460f7d862724",
        "colab": {
          "base_uri": "https://localhost:8080/",
          "height": 34
        }
      },
      "cell_type": "code",
      "source": [
        "len(set(training['Geographic Locations'])),  len(set(testing['Geographic Locations']))"
      ],
      "execution_count": 13,
      "outputs": [
        {
          "output_type": "execute_result",
          "data": {
            "text/plain": [
              "(1, 2)"
            ]
          },
          "metadata": {
            "tags": []
          },
          "execution_count": 13
        }
      ]
    },
    {
      "metadata": {
        "id": "evqsmyBxHz2_",
        "colab_type": "code",
        "outputId": "80677c02-1db6-4b67-b7e0-d83f2dfd7f11",
        "colab": {
          "base_uri": "https://localhost:8080/",
          "height": 51
        }
      },
      "cell_type": "code",
      "source": [
        "set(testing['Geographic Locations'])"
      ],
      "execution_count": 14,
      "outputs": [
        {
          "output_type": "execute_result",
          "data": {
            "text/plain": [
              "{'United States of America (Primary)',\n",
              " 'United States of America (Primary); United States of America (Primary)'}"
            ]
          },
          "metadata": {
            "tags": []
          },
          "execution_count": 14
        }
      ]
    },
    {
      "metadata": {
        "id": "9xeXQCefxLB2",
        "colab_type": "text"
      },
      "cell_type": "markdown",
      "source": [
        "Basically, Geographic Location will being a unique value will not affect the prediction."
      ]
    },
    {
      "metadata": {
        "id": "o8qrRxl6J7rU",
        "colab_type": "code",
        "colab": {}
      },
      "cell_type": "code",
      "source": [
        "training.drop('Geographic Locations', axis=1, inplace=True)"
      ],
      "execution_count": 0,
      "outputs": []
    },
    {
      "metadata": {
        "id": "Laz6XDzHNlg9",
        "colab_type": "code",
        "colab": {}
      },
      "cell_type": "code",
      "source": [
        " testing.drop('Geographic Locations', axis=1, inplace=True)"
      ],
      "execution_count": 0,
      "outputs": []
    },
    {
      "metadata": {
        "id": "6zd5bhSGxyEg",
        "colab_type": "text"
      },
      "cell_type": "markdown",
      "source": [
        "There is a unique Company Status (Operating). SO this will also not affect the prediction"
      ]
    },
    {
      "metadata": {
        "id": "2fVv9GvTN4kR",
        "colab_type": "code",
        "colab": {}
      },
      "cell_type": "code",
      "source": [
        "training.drop('Company Status', axis=1, inplace=True)"
      ],
      "execution_count": 0,
      "outputs": []
    },
    {
      "metadata": {
        "id": "IQfZHwgDR4K0",
        "colab_type": "code",
        "colab": {}
      },
      "cell_type": "code",
      "source": [
        "testing.drop('Company Status' , axis=1, inplace=True)"
      ],
      "execution_count": 0,
      "outputs": []
    },
    {
      "metadata": {
        "id": "qTPuGjMFPGIS",
        "colab_type": "code",
        "outputId": "f5380cb2-62be-4778-e599-b411b73430e2",
        "colab": {
          "base_uri": "https://localhost:8080/",
          "height": 34
        }
      },
      "cell_type": "code",
      "source": [
        "len(set(training['Company Type'])),  len(set(testing['Company Type']))"
      ],
      "execution_count": 23,
      "outputs": [
        {
          "output_type": "execute_result",
          "data": {
            "text/plain": [
              "(1, 1)"
            ]
          },
          "metadata": {
            "tags": []
          },
          "execution_count": 23
        }
      ]
    },
    {
      "metadata": {
        "id": "wY94BEkEPXhA",
        "colab_type": "code",
        "colab": {}
      },
      "cell_type": "code",
      "source": [
        "training.drop('Company Type', axis=1, inplace=True)"
      ],
      "execution_count": 0,
      "outputs": []
    },
    {
      "metadata": {
        "id": "6pq4W_1nPzu9",
        "colab_type": "code",
        "colab": {}
      },
      "cell_type": "code",
      "source": [
        "testing.drop('Company Type', axis=1, inplace=True )"
      ],
      "execution_count": 0,
      "outputs": []
    },
    {
      "metadata": {
        "id": "7UWY3DhoXZLh",
        "colab_type": "code",
        "outputId": "c0315046-f0cd-4ca8-f63e-f086a4b4ba47",
        "colab": {
          "base_uri": "https://localhost:8080/",
          "height": 34
        }
      },
      "cell_type": "code",
      "source": [
        "training.drop('Company Name', axis=1, inplace=True), testing.drop('Company Name', axis=1, inplace=True)"
      ],
      "execution_count": 58,
      "outputs": [
        {
          "output_type": "execute_result",
          "data": {
            "text/plain": [
              "(None, None)"
            ]
          },
          "metadata": {
            "tags": []
          },
          "execution_count": 58
        }
      ]
    },
    {
      "metadata": {
        "id": "15z6TyW4XVKa",
        "colab_type": "code",
        "outputId": "8c9dc848-29b1-491e-94e2-a7a38d13577e",
        "colab": {
          "base_uri": "https://localhost:8080/",
          "height": 289
        }
      },
      "cell_type": "code",
      "source": [
        "training.head()"
      ],
      "execution_count": 0,
      "outputs": [
        {
          "output_type": "execute_result",
          "data": {
            "text/html": [
              "<div>\n",
              "<style scoped>\n",
              "    .dataframe tbody tr th:only-of-type {\n",
              "        vertical-align: middle;\n",
              "    }\n",
              "\n",
              "    .dataframe tbody tr th {\n",
              "        vertical-align: top;\n",
              "    }\n",
              "\n",
              "    .dataframe thead th {\n",
              "        text-align: right;\n",
              "    }\n",
              "</style>\n",
              "<table border=\"1\" class=\"dataframe\">\n",
              "  <thead>\n",
              "    <tr style=\"text-align: right;\">\n",
              "      <th></th>\n",
              "      <th>Exchange:Ticker</th>\n",
              "      <th>Business Description</th>\n",
              "      <th>Industry Classifications</th>\n",
              "      <th>Security Tickers</th>\n",
              "    </tr>\n",
              "  </thead>\n",
              "  <tbody>\n",
              "    <tr>\n",
              "      <th>0</th>\n",
              "      <td>OTCPK:EEIG</td>\n",
              "      <td>024 Pharma, Inc. provides healthcare products ...</td>\n",
              "      <td>Beauty Care Products (Primary)</td>\n",
              "      <td>OTCPK:EEIG</td>\n",
              "    </tr>\n",
              "    <tr>\n",
              "      <th>1</th>\n",
              "      <td>NasdaqGS:FLWS</td>\n",
              "      <td>1-800-Flowers.com, Inc., together with its sub...</td>\n",
              "      <td>Catalog Flowers, Gifts and Novelties (Primary)</td>\n",
              "      <td>NasdaqGS:FLWS; DB:FWC</td>\n",
              "    </tr>\n",
              "    <tr>\n",
              "      <th>2</th>\n",
              "      <td>OTCPK:RETC</td>\n",
              "      <td>12 Retech Corporation, through its subsidiarie...</td>\n",
              "      <td>Information Technology (Primary)</td>\n",
              "      <td>OTCPK:RETC</td>\n",
              "    </tr>\n",
              "    <tr>\n",
              "      <th>3</th>\n",
              "      <td>NasdaqGM:PIH</td>\n",
              "      <td>1347 Property Insurance Holdings, Inc., throug...</td>\n",
              "      <td>Casualty (Primary)</td>\n",
              "      <td>NasdaqGM:PIH</td>\n",
              "    </tr>\n",
              "    <tr>\n",
              "      <th>4</th>\n",
              "      <td>OTCPK:EFSH</td>\n",
              "      <td>1847 Holdings LLC, through its subsidiaries, p...</td>\n",
              "      <td>Commercial and Professional Services (Primary)</td>\n",
              "      <td>OTCPK:EFSH</td>\n",
              "    </tr>\n",
              "  </tbody>\n",
              "</table>\n",
              "</div>"
            ],
            "text/plain": [
              "  Exchange:Ticker                               Business Description  \\\n",
              "0      OTCPK:EEIG  024 Pharma, Inc. provides healthcare products ...   \n",
              "1   NasdaqGS:FLWS  1-800-Flowers.com, Inc., together with its sub...   \n",
              "2      OTCPK:RETC  12 Retech Corporation, through its subsidiarie...   \n",
              "3    NasdaqGM:PIH  1347 Property Insurance Holdings, Inc., throug...   \n",
              "4      OTCPK:EFSH  1847 Holdings LLC, through its subsidiaries, p...   \n",
              "\n",
              "                         Industry Classifications       Security Tickers  \n",
              "0                  Beauty Care Products (Primary)             OTCPK:EEIG  \n",
              "1  Catalog Flowers, Gifts and Novelties (Primary)  NasdaqGS:FLWS; DB:FWC  \n",
              "2                Information Technology (Primary)             OTCPK:RETC  \n",
              "3                              Casualty (Primary)           NasdaqGM:PIH  \n",
              "4  Commercial and Professional Services (Primary)             OTCPK:EFSH  "
            ]
          },
          "metadata": {
            "tags": []
          },
          "execution_count": 29
        }
      ]
    },
    {
      "metadata": {
        "id": "fm7gc3JKXumZ",
        "colab_type": "code",
        "outputId": "e7b56d94-cf57-46d2-8583-384446d889ad",
        "colab": {
          "base_uri": "https://localhost:8080/",
          "height": 289
        }
      },
      "cell_type": "code",
      "source": [
        "testing.head()"
      ],
      "execution_count": 28,
      "outputs": [
        {
          "output_type": "execute_result",
          "data": {
            "text/html": [
              "<div>\n",
              "<style scoped>\n",
              "    .dataframe tbody tr th:only-of-type {\n",
              "        vertical-align: middle;\n",
              "    }\n",
              "\n",
              "    .dataframe tbody tr th {\n",
              "        vertical-align: top;\n",
              "    }\n",
              "\n",
              "    .dataframe thead th {\n",
              "        text-align: right;\n",
              "    }\n",
              "</style>\n",
              "<table border=\"1\" class=\"dataframe\">\n",
              "  <thead>\n",
              "    <tr style=\"text-align: right;\">\n",
              "      <th></th>\n",
              "      <th>Company Name</th>\n",
              "      <th>Exchange:Ticker</th>\n",
              "      <th>Business Description</th>\n",
              "      <th>Security Tickers</th>\n",
              "    </tr>\n",
              "  </thead>\n",
              "  <tbody>\n",
              "    <tr>\n",
              "      <th>0</th>\n",
              "      <td>024 Pharma, Inc. (OTCPK:EEIG)</td>\n",
              "      <td>OTCPK:EEIG</td>\n",
              "      <td>024 Pharma, Inc. provides healthcare products ...</td>\n",
              "      <td>OTCPK:EEIG</td>\n",
              "    </tr>\n",
              "    <tr>\n",
              "      <th>1</th>\n",
              "      <td>1-800-FLOWERS.COM, Inc. (NasdaqGS:FLWS)</td>\n",
              "      <td>NasdaqGS:FLWS</td>\n",
              "      <td>1-800-Flowers.com, Inc., together with its sub...</td>\n",
              "      <td>NasdaqGS:FLWS; DB:FWC</td>\n",
              "    </tr>\n",
              "    <tr>\n",
              "      <th>2</th>\n",
              "      <td>12 Retech Corporation (OTCPK:RETC)</td>\n",
              "      <td>OTCPK:RETC</td>\n",
              "      <td>12 Retech Corporation, through its subsidiarie...</td>\n",
              "      <td>OTCPK:RETC</td>\n",
              "    </tr>\n",
              "    <tr>\n",
              "      <th>3</th>\n",
              "      <td>1347 Property Insurance Holdings, Inc. (Nasdaq...</td>\n",
              "      <td>NasdaqGM:PIH</td>\n",
              "      <td>1347 Property Insurance Holdings, Inc., throug...</td>\n",
              "      <td>NasdaqGM:PIH</td>\n",
              "    </tr>\n",
              "    <tr>\n",
              "      <th>4</th>\n",
              "      <td>1847 Holdings LLC (OTCPK:EFSH)</td>\n",
              "      <td>OTCPK:EFSH</td>\n",
              "      <td>1847 Holdings LLC, through its subsidiaries, p...</td>\n",
              "      <td>OTCPK:EFSH</td>\n",
              "    </tr>\n",
              "  </tbody>\n",
              "</table>\n",
              "</div>"
            ],
            "text/plain": [
              "                                        Company Name Exchange:Ticker  \\\n",
              "0                      024 Pharma, Inc. (OTCPK:EEIG)      OTCPK:EEIG   \n",
              "1            1-800-FLOWERS.COM, Inc. (NasdaqGS:FLWS)   NasdaqGS:FLWS   \n",
              "2                 12 Retech Corporation (OTCPK:RETC)      OTCPK:RETC   \n",
              "3  1347 Property Insurance Holdings, Inc. (Nasdaq...    NasdaqGM:PIH   \n",
              "4                     1847 Holdings LLC (OTCPK:EFSH)      OTCPK:EFSH   \n",
              "\n",
              "                                Business Description       Security Tickers  \n",
              "0  024 Pharma, Inc. provides healthcare products ...             OTCPK:EEIG  \n",
              "1  1-800-Flowers.com, Inc., together with its sub...  NasdaqGS:FLWS; DB:FWC  \n",
              "2  12 Retech Corporation, through its subsidiarie...             OTCPK:RETC  \n",
              "3  1347 Property Insurance Holdings, Inc., throug...           NasdaqGM:PIH  \n",
              "4  1847 Holdings LLC, through its subsidiaries, p...             OTCPK:EFSH  "
            ]
          },
          "metadata": {
            "tags": []
          },
          "execution_count": 28
        }
      ]
    },
    {
      "metadata": {
        "id": "0B7vZWLnXv9A",
        "colab_type": "code",
        "outputId": "729bf66a-95d5-44d5-e477-99db3a08da7e",
        "colab": {
          "base_uri": "https://localhost:8080/",
          "height": 34
        }
      },
      "cell_type": "code",
      "source": [
        "len(set(training['Exchange:Ticker'])), len(set(testing['Exchange:Ticker'])), len(set(training['Security Tickers'])),len(set(testing['Security Tickers']))"
      ],
      "execution_count": 29,
      "outputs": [
        {
          "output_type": "execute_result",
          "data": {
            "text/plain": [
              "(1991, 8388, 1996, 8402)"
            ]
          },
          "metadata": {
            "tags": []
          },
          "execution_count": 29
        }
      ]
    },
    {
      "metadata": {
        "id": "vBgU9EJryMEn",
        "colab_type": "text"
      },
      "cell_type": "markdown",
      "source": [
        "Such similarity in the unique number of Tickers and total number of rows for both training and testing datasets clearly depicts that these columns are of little use for modelling. They are unique ID for company"
      ]
    },
    {
      "metadata": {
        "id": "WYCpaSFxYVOf",
        "colab_type": "code",
        "outputId": "58fb5709-5e5b-4128-b9a4-5714c22c48fc",
        "colab": {
          "base_uri": "https://localhost:8080/",
          "height": 34
        }
      },
      "cell_type": "code",
      "source": [
        "training.drop(['Exchange:Ticker', 'Security Tickers'], axis=1, inplace=True), testing.drop(['Exchange:Ticker', 'Security Tickers'], axis=1, inplace=True)"
      ],
      "execution_count": 30,
      "outputs": [
        {
          "output_type": "execute_result",
          "data": {
            "text/plain": [
              "(None, None)"
            ]
          },
          "metadata": {
            "tags": []
          },
          "execution_count": 30
        }
      ]
    },
    {
      "metadata": {
        "id": "I0Y0Fuo8HeZC",
        "colab_type": "code",
        "colab": {}
      },
      "cell_type": "code",
      "source": [
        "import nltk, spacy"
      ],
      "execution_count": 0,
      "outputs": []
    },
    {
      "metadata": {
        "id": "v5MKvClfRh1Q",
        "colab_type": "code",
        "outputId": "135c2841-5736-4ba6-d33c-5ad3f0702ec0",
        "colab": {
          "base_uri": "https://localhost:8080/",
          "height": 887
        }
      },
      "cell_type": "code",
      "source": [
        "pip install spacy && python -m spacy download en_core_web_md"
      ],
      "execution_count": 34,
      "outputs": [
        {
          "output_type": "stream",
          "text": [
            "Requirement already satisfied: spacy in /usr/local/lib/python3.6/dist-packages (2.0.18)\n",
            "Collecting numpy>=1.15.0 (from spacy)\n",
            "\u001b[?25l  Downloading https://files.pythonhosted.org/packages/35/d5/4f8410ac303e690144f0a0603c4b8fd3b986feb2749c435f7cdbb288f17e/numpy-1.16.2-cp36-cp36m-manylinux1_x86_64.whl (17.3MB)\n",
            "\u001b[K    100% |████████████████████████████████| 17.3MB 1.9MB/s \n",
            "\u001b[?25hRequirement already satisfied: regex==2018.01.10 in /usr/local/lib/python3.6/dist-packages (from spacy) (2018.1.10)\n",
            "Requirement already satisfied: preshed<2.1.0,>=2.0.1 in /usr/local/lib/python3.6/dist-packages (from spacy) (2.0.1)\n",
            "Requirement already satisfied: thinc<6.13.0,>=6.12.1 in /usr/local/lib/python3.6/dist-packages (from spacy) (6.12.1)\n",
            "Requirement already satisfied: murmurhash<1.1.0,>=0.28.0 in /usr/local/lib/python3.6/dist-packages (from spacy) (1.0.2)\n",
            "Requirement already satisfied: cymem<2.1.0,>=2.0.2 in /usr/local/lib/python3.6/dist-packages (from spacy) (2.0.2)\n",
            "Requirement already satisfied: requests<3.0.0,>=2.13.0 in /usr/local/lib/python3.6/dist-packages (from spacy) (2.18.4)\n",
            "Requirement already satisfied: ujson>=1.35 in /usr/local/lib/python3.6/dist-packages (from spacy) (1.35)\n",
            "Requirement already satisfied: plac<1.0.0,>=0.9.6 in /usr/local/lib/python3.6/dist-packages (from spacy) (0.9.6)\n",
            "Requirement already satisfied: dill<0.3,>=0.2 in /usr/local/lib/python3.6/dist-packages (from spacy) (0.2.9)\n",
            "Requirement already satisfied: wrapt<1.11.0,>=1.10.0 in /usr/local/lib/python3.6/dist-packages (from thinc<6.13.0,>=6.12.1->spacy) (1.10.11)\n",
            "Requirement already satisfied: tqdm<5.0.0,>=4.10.0 in /usr/local/lib/python3.6/dist-packages (from thinc<6.13.0,>=6.12.1->spacy) (4.28.1)\n",
            "Requirement already satisfied: msgpack<0.6.0,>=0.5.6 in /usr/local/lib/python3.6/dist-packages (from thinc<6.13.0,>=6.12.1->spacy) (0.5.6)\n",
            "Requirement already satisfied: msgpack-numpy<0.4.4 in /usr/local/lib/python3.6/dist-packages (from thinc<6.13.0,>=6.12.1->spacy) (0.4.3.2)\n",
            "Requirement already satisfied: cytoolz<0.10,>=0.9.0 in /usr/local/lib/python3.6/dist-packages (from thinc<6.13.0,>=6.12.1->spacy) (0.9.0.1)\n",
            "Requirement already satisfied: six<2.0.0,>=1.10.0 in /usr/local/lib/python3.6/dist-packages (from thinc<6.13.0,>=6.12.1->spacy) (1.11.0)\n",
            "Requirement already satisfied: urllib3<1.23,>=1.21.1 in /usr/local/lib/python3.6/dist-packages (from requests<3.0.0,>=2.13.0->spacy) (1.22)\n",
            "Requirement already satisfied: idna<2.7,>=2.5 in /usr/local/lib/python3.6/dist-packages (from requests<3.0.0,>=2.13.0->spacy) (2.6)\n",
            "Requirement already satisfied: certifi>=2017.4.17 in /usr/local/lib/python3.6/dist-packages (from requests<3.0.0,>=2.13.0->spacy) (2019.3.9)\n",
            "Requirement already satisfied: chardet<3.1.0,>=3.0.2 in /usr/local/lib/python3.6/dist-packages (from requests<3.0.0,>=2.13.0->spacy) (3.0.4)\n",
            "Requirement already satisfied: toolz>=0.8.0 in /usr/local/lib/python3.6/dist-packages (from cytoolz<0.10,>=0.9.0->thinc<6.13.0,>=6.12.1->spacy) (0.9.0)\n",
            "\u001b[31mfeaturetools 0.4.1 has requirement pandas>=0.23.0, but you'll have pandas 0.22.0 which is incompatible.\u001b[0m\n",
            "\u001b[31mdatascience 0.10.6 has requirement folium==0.2.1, but you'll have folium 0.8.3 which is incompatible.\u001b[0m\n",
            "\u001b[31malbumentations 0.1.12 has requirement imgaug<0.2.7,>=0.2.5, but you'll have imgaug 0.2.8 which is incompatible.\u001b[0m\n",
            "Installing collected packages: numpy\n",
            "  Found existing installation: numpy 1.14.6\n",
            "    Uninstalling numpy-1.14.6:\n",
            "      Successfully uninstalled numpy-1.14.6\n",
            "Successfully installed numpy-1.16.2\n",
            "Collecting en_core_web_md==2.0.0 from https://github.com/explosion/spacy-models/releases/download/en_core_web_md-2.0.0/en_core_web_md-2.0.0.tar.gz#egg=en_core_web_md==2.0.0\n",
            "\u001b[?25l  Downloading https://github.com/explosion/spacy-models/releases/download/en_core_web_md-2.0.0/en_core_web_md-2.0.0.tar.gz (120.8MB)\n",
            "\u001b[K    100% |████████████████████████████████| 120.9MB 2.1MB/s \n",
            "\u001b[?25hInstalling collected packages: en-core-web-md\n",
            "  Running setup.py install for en-core-web-md ... \u001b[?25ldone\n",
            "\u001b[?25hSuccessfully installed en-core-web-md-2.0.0\n",
            "\n",
            "\u001b[93m    Linking successful\u001b[0m\n",
            "    /usr/local/lib/python3.6/dist-packages/en_core_web_md -->\n",
            "    /usr/local/lib/python3.6/dist-packages/spacy/data/en_core_web_md\n",
            "\n",
            "    You can now load the model via spacy.load('en_core_web_md')\n",
            "\n"
          ],
          "name": "stdout"
        },
        {
          "output_type": "display_data",
          "data": {
            "application/vnd.colab-display-data+json": {
              "pip_warning": {
                "packages": [
                  "numpy"
                ]
              }
            }
          },
          "metadata": {
            "tags": []
          }
        }
      ]
    },
    {
      "metadata": {
        "id": "DgwtOFiMNqDA",
        "colab_type": "code",
        "outputId": "aca8886b-dd72-43d8-a014-8e182697e279",
        "colab": {
          "base_uri": "https://localhost:8080/",
          "height": 68
        }
      },
      "cell_type": "code",
      "source": [
        "nltk.download('stopwords')"
      ],
      "execution_count": 35,
      "outputs": [
        {
          "output_type": "stream",
          "text": [
            "[nltk_data] Downloading package stopwords to /root/nltk_data...\n",
            "[nltk_data]   Unzipping corpora/stopwords.zip.\n"
          ],
          "name": "stdout"
        },
        {
          "output_type": "execute_result",
          "data": {
            "text/plain": [
              "True"
            ]
          },
          "metadata": {
            "tags": []
          },
          "execution_count": 35
        }
      ]
    },
    {
      "metadata": {
        "id": "4rrSPu_eKYQs",
        "colab_type": "code",
        "colab": {}
      },
      "cell_type": "code",
      "source": [
        "from nltk.tokenize.toktok import ToktokTokenizer\n",
        "import unicodedata"
      ],
      "execution_count": 0,
      "outputs": []
    },
    {
      "metadata": {
        "id": "bKGXvO0kOjNV",
        "colab_type": "code",
        "colab": {}
      },
      "cell_type": "code",
      "source": [
        "import re"
      ],
      "execution_count": 0,
      "outputs": []
    },
    {
      "metadata": {
        "id": "hLmEBbycKd-t",
        "colab_type": "code",
        "colab": {}
      },
      "cell_type": "code",
      "source": [
        "tokenizer = ToktokTokenizer()\n",
        "stopword_list = nltk.corpus.stopwords.words('english')\n"
      ],
      "execution_count": 0,
      "outputs": []
    },
    {
      "metadata": {
        "id": "eWG73qMlRGOL",
        "colab_type": "code",
        "colab": {}
      },
      "cell_type": "code",
      "source": [
        "nlp = spacy.load('en_core_web_md')"
      ],
      "execution_count": 0,
      "outputs": []
    },
    {
      "metadata": {
        "id": "P0HBlHNiOq7y",
        "colab_type": "text"
      },
      "cell_type": "markdown",
      "source": [
        "Now, Special Characters and Numbers need to be removed."
      ]
    },
    {
      "metadata": {
        "id": "-vSzeMhPNyWQ",
        "colab_type": "code",
        "colab": {}
      },
      "cell_type": "code",
      "source": [
        "def remove_special_characters(text, remove_digits=False):\n",
        "    pattern = r'[^a-zA-z0-9\\s]' if not remove_digits else r'[^a-zA-z\\s]'\n",
        "    text = re.sub(pattern, '', text)\n",
        "    return text"
      ],
      "execution_count": 0,
      "outputs": []
    },
    {
      "metadata": {
        "id": "Q7ZXk3FPOdKX",
        "colab_type": "code",
        "outputId": "fe8dd16d-181b-4f34-d42d-b10b596ad510",
        "colab": {
          "base_uri": "https://localhost:8080/",
          "height": 34
        }
      },
      "cell_type": "code",
      "source": [
        "remove_special_characters(\"Well this was fun! What do you think? 123#@!\", remove_digits=True) # Checking the implementation of the function."
      ],
      "execution_count": 41,
      "outputs": [
        {
          "output_type": "execute_result",
          "data": {
            "text/plain": [
              "'Well this was fun What do you think '"
            ]
          },
          "metadata": {
            "tags": []
          },
          "execution_count": 41
        }
      ]
    },
    {
      "metadata": {
        "id": "-efQkQPIO7_G",
        "colab_type": "text"
      },
      "cell_type": "markdown",
      "source": [
        "It should be better if the words are \"Stemmed\" to their roots."
      ]
    },
    {
      "metadata": {
        "id": "GSbLh74eOqFa",
        "colab_type": "code",
        "colab": {}
      },
      "cell_type": "code",
      "source": [
        "def stemmer(text):\n",
        "    ps = nltk.porter.PorterStemmer()\n",
        "    text = ' '.join([ps.stem(word) for word in text.split()])\n",
        "    return text"
      ],
      "execution_count": 0,
      "outputs": []
    },
    {
      "metadata": {
        "id": "MivSEOikPEVM",
        "colab_type": "code",
        "outputId": "65366c21-56e7-4376-fde5-d5ef8d2425a9",
        "colab": {
          "base_uri": "https://localhost:8080/",
          "height": 34
        }
      },
      "cell_type": "code",
      "source": [
        "stemmer(\"My system keeps crashing his crashed yesterday, ours crashes daily\")"
      ],
      "execution_count": 44,
      "outputs": [
        {
          "output_type": "execute_result",
          "data": {
            "text/plain": [
              "'My system keep crash hi crash yesterday, our crash daili'"
            ]
          },
          "metadata": {
            "tags": []
          },
          "execution_count": 44
        }
      ]
    },
    {
      "metadata": {
        "id": "Marm77_NRPxz",
        "colab_type": "code",
        "colab": {}
      },
      "cell_type": "code",
      "source": [
        "def lemmatize_text(text):\n",
        "    text = nlp(text)\n",
        "    text = ' '.join([word.lemma_ if word.lemma_ != '-PRON-' else word.text for word in text])\n",
        "    return text"
      ],
      "execution_count": 0,
      "outputs": []
    },
    {
      "metadata": {
        "id": "yy0TTDbpRRCn",
        "colab_type": "code",
        "outputId": "55293776-7201-4f79-bf91-6593c8ce0f51",
        "colab": {
          "base_uri": "https://localhost:8080/",
          "height": 34
        }
      },
      "cell_type": "code",
      "source": [
        "lemmatize_text(\"My system keeps crashing! his crashed yesterday, ours crashes daily\") #Checking the implementation of my function"
      ],
      "execution_count": 46,
      "outputs": [
        {
          "output_type": "execute_result",
          "data": {
            "text/plain": [
              "'My system keep crash ! his crash yesterday , ours crash daily'"
            ]
          },
          "metadata": {
            "tags": []
          },
          "execution_count": 46
        }
      ]
    },
    {
      "metadata": {
        "id": "QPzRUIKuSSRa",
        "colab_type": "text"
      },
      "cell_type": "markdown",
      "source": [
        "I think lemmatizing is better than Stemming in our case"
      ]
    },
    {
      "metadata": {
        "id": "F3pCs0YpTk4I",
        "colab_type": "text"
      },
      "cell_type": "markdown",
      "source": [
        "Stopwords can be removed for better efficiency of the model that can be used for prediction."
      ]
    },
    {
      "metadata": {
        "id": "oBxQoLftSeS8",
        "colab_type": "code",
        "colab": {}
      },
      "cell_type": "code",
      "source": [
        "def remove_stopwords(text, is_lower_case=False):\n",
        "    tokens = tokenizer.tokenize(text)\n",
        "    tokens = [token.strip() for token in tokens]\n",
        "    if is_lower_case:\n",
        "        filtered_tokens = [token for token in tokens if token not in stopword_list]\n",
        "    else:\n",
        "        filtered_tokens = [token for token in tokens if token.lower() not in stopword_list]\n",
        "    filtered_text = ' '.join(filtered_tokens)    \n",
        "    return filtered_text\n"
      ],
      "execution_count": 0,
      "outputs": []
    },
    {
      "metadata": {
        "id": "FXKfk5bkT4eH",
        "colab_type": "code",
        "outputId": "1ee4a656-cda8-4df0-950b-cf8fa447d8e6",
        "colab": {
          "base_uri": "https://localhost:8080/",
          "height": 34
        }
      },
      "cell_type": "code",
      "source": [
        "remove_stopwords(\"The, and, if are stopwords, computer is not\") #checking the implementation of my function"
      ],
      "execution_count": 50,
      "outputs": [
        {
          "output_type": "execute_result",
          "data": {
            "text/plain": [
              "', , stopwords , computer'"
            ]
          },
          "metadata": {
            "tags": []
          },
          "execution_count": 50
        }
      ]
    },
    {
      "metadata": {
        "id": "w9f399w0UZvp",
        "colab_type": "text"
      },
      "cell_type": "markdown",
      "source": [
        "Now, combining the preprocessing functions into a single function"
      ]
    },
    {
      "metadata": {
        "id": "6ZgnjJZ2UOMY",
        "colab_type": "code",
        "colab": {}
      },
      "cell_type": "code",
      "source": [
        "def Preprocess(doc, text_lower_case=True, text_lemmatization=True, special_char_removal=True,stopword_removal=True):    \n",
        "    #for doc in corpus:\n",
        "        #lowecasing the sentence(s)        \n",
        "    if text_lower_case:\n",
        "        doc = doc.lower()\n",
        "        # lemmatizing the text\n",
        "    if text_lemmatization:\n",
        "        doc = lemmatize_text(doc)\n",
        "        # removing the  special characters and digits    \n",
        "    if special_char_removal:\n",
        "            # insert spaces between special characters to isolate them    \n",
        "        doc = remove_special_characters(doc, remove_digits=True)  \n",
        "        # removing the stopwords\n",
        "    if stopword_removal:\n",
        "        doc = remove_stopwords(doc, is_lower_case=text_lower_case)\n",
        "            \n",
        "           \n",
        "    return doc"
      ],
      "execution_count": 0,
      "outputs": []
    },
    {
      "metadata": {
        "id": "LCyjwRC3XQm3",
        "colab_type": "code",
        "colab": {}
      },
      "cell_type": "code",
      "source": [
        "training1= training"
      ],
      "execution_count": 0,
      "outputs": []
    },
    {
      "metadata": {
        "id": "d1Ab5zbXZu7v",
        "colab_type": "code",
        "colab": {}
      },
      "cell_type": "code",
      "source": [
        "training1 = training1['Business Description'].apply(Preprocess)"
      ],
      "execution_count": 0,
      "outputs": []
    },
    {
      "metadata": {
        "id": "CQpnZ_9OaajZ",
        "colab_type": "code",
        "colab": {}
      },
      "cell_type": "code",
      "source": [
        "training['Business Description'] = training1"
      ],
      "execution_count": 0,
      "outputs": []
    },
    {
      "metadata": {
        "id": "alNftKDDakRs",
        "colab_type": "code",
        "outputId": "4b518b13-9308-4973-89a3-d689f3e3139e",
        "colab": {
          "base_uri": "https://localhost:8080/",
          "height": 204
        }
      },
      "cell_type": "code",
      "source": [
        "training.head()"
      ],
      "execution_count": 62,
      "outputs": [
        {
          "output_type": "execute_result",
          "data": {
            "text/html": [
              "<div>\n",
              "<style scoped>\n",
              "    .dataframe tbody tr th:only-of-type {\n",
              "        vertical-align: middle;\n",
              "    }\n",
              "\n",
              "    .dataframe tbody tr th {\n",
              "        vertical-align: top;\n",
              "    }\n",
              "\n",
              "    .dataframe thead th {\n",
              "        text-align: right;\n",
              "    }\n",
              "</style>\n",
              "<table border=\"1\" class=\"dataframe\">\n",
              "  <thead>\n",
              "    <tr style=\"text-align: right;\">\n",
              "      <th></th>\n",
              "      <th>Business Description</th>\n",
              "      <th>Industry Classifications</th>\n",
              "    </tr>\n",
              "  </thead>\n",
              "  <tbody>\n",
              "    <tr>\n",
              "      <th>0</th>\n",
              "      <td>pharma inc provide healthcare product worldwid...</td>\n",
              "      <td>Beauty Care Products (Primary)</td>\n",
              "    </tr>\n",
              "    <tr>\n",
              "      <th>1</th>\n",
              "      <td>flowerscom inc together subsidiary provide gou...</td>\n",
              "      <td>Catalog Flowers, Gifts and Novelties (Primary)</td>\n",
              "    </tr>\n",
              "    <tr>\n",
              "      <th>2</th>\n",
              "      <td>retech corporation subsidiary operate integrat...</td>\n",
              "      <td>Information Technology (Primary)</td>\n",
              "    </tr>\n",
              "    <tr>\n",
              "      <th>3</th>\n",
              "      <td>property insurance hold inc subsidiary provide...</td>\n",
              "      <td>Casualty (Primary)</td>\n",
              "    </tr>\n",
              "    <tr>\n",
              "      <th>4</th>\n",
              "      <td>hold llc subsidiary provide range product serv...</td>\n",
              "      <td>Commercial and Professional Services (Primary)</td>\n",
              "    </tr>\n",
              "  </tbody>\n",
              "</table>\n",
              "</div>"
            ],
            "text/plain": [
              "                                Business Description  \\\n",
              "0  pharma inc provide healthcare product worldwid...   \n",
              "1  flowerscom inc together subsidiary provide gou...   \n",
              "2  retech corporation subsidiary operate integrat...   \n",
              "3  property insurance hold inc subsidiary provide...   \n",
              "4  hold llc subsidiary provide range product serv...   \n",
              "\n",
              "                         Industry Classifications  \n",
              "0                  Beauty Care Products (Primary)  \n",
              "1  Catalog Flowers, Gifts and Novelties (Primary)  \n",
              "2                Information Technology (Primary)  \n",
              "3                              Casualty (Primary)  \n",
              "4  Commercial and Professional Services (Primary)  "
            ]
          },
          "metadata": {
            "tags": []
          },
          "execution_count": 62
        }
      ]
    },
    {
      "metadata": {
        "id": "0t2lZyQurC7B",
        "colab_type": "code",
        "colab": {}
      },
      "cell_type": "code",
      "source": [
        "testing1 = testing['Business Description'].apply(Preprocess)"
      ],
      "execution_count": 0,
      "outputs": []
    },
    {
      "metadata": {
        "id": "tz9tBGO4tUeM",
        "colab_type": "code",
        "colab": {}
      },
      "cell_type": "code",
      "source": [
        "testing['Business Description']=testing1"
      ],
      "execution_count": 0,
      "outputs": []
    },
    {
      "metadata": {
        "id": "dYdwPzR1tblm",
        "colab_type": "code",
        "outputId": "4a84c69d-e76c-4959-98ab-279770ae6285",
        "colab": {
          "base_uri": "https://localhost:8080/",
          "height": 204
        }
      },
      "cell_type": "code",
      "source": [
        "testing.head()"
      ],
      "execution_count": 65,
      "outputs": [
        {
          "output_type": "execute_result",
          "data": {
            "text/html": [
              "<div>\n",
              "<style scoped>\n",
              "    .dataframe tbody tr th:only-of-type {\n",
              "        vertical-align: middle;\n",
              "    }\n",
              "\n",
              "    .dataframe tbody tr th {\n",
              "        vertical-align: top;\n",
              "    }\n",
              "\n",
              "    .dataframe thead th {\n",
              "        text-align: right;\n",
              "    }\n",
              "</style>\n",
              "<table border=\"1\" class=\"dataframe\">\n",
              "  <thead>\n",
              "    <tr style=\"text-align: right;\">\n",
              "      <th></th>\n",
              "      <th>Business Description</th>\n",
              "    </tr>\n",
              "  </thead>\n",
              "  <tbody>\n",
              "    <tr>\n",
              "      <th>0</th>\n",
              "      <td>pharma inc provide healthcare product worldwid...</td>\n",
              "    </tr>\n",
              "    <tr>\n",
              "      <th>1</th>\n",
              "      <td>flowerscom inc together subsidiary provide gou...</td>\n",
              "    </tr>\n",
              "    <tr>\n",
              "      <th>2</th>\n",
              "      <td>retech corporation subsidiary operate integrat...</td>\n",
              "    </tr>\n",
              "    <tr>\n",
              "      <th>3</th>\n",
              "      <td>property insurance holding inc subsidiary prov...</td>\n",
              "    </tr>\n",
              "    <tr>\n",
              "      <th>4</th>\n",
              "      <td>holding llc subsidiary provide range product s...</td>\n",
              "    </tr>\n",
              "  </tbody>\n",
              "</table>\n",
              "</div>"
            ],
            "text/plain": [
              "                                Business Description\n",
              "0  pharma inc provide healthcare product worldwid...\n",
              "1  flowerscom inc together subsidiary provide gou...\n",
              "2  retech corporation subsidiary operate integrat...\n",
              "3  property insurance holding inc subsidiary prov...\n",
              "4  holding llc subsidiary provide range product s..."
            ]
          },
          "metadata": {
            "tags": []
          },
          "execution_count": 65
        }
      ]
    },
    {
      "metadata": {
        "id": "ZQTqsOR00m2f",
        "colab_type": "text"
      },
      "cell_type": "markdown",
      "source": [
        "Now, both the training and testing datasets have been preprocessed."
      ]
    },
    {
      "metadata": {
        "id": "BlmDgHcafaHd",
        "colab_type": "code",
        "outputId": "f3a4ff14-9207-49d3-feb7-efb3acb5c0ec",
        "colab": {
          "base_uri": "https://localhost:8080/",
          "height": 68
        }
      },
      "cell_type": "code",
      "source": [
        "nltk.download('punkt')"
      ],
      "execution_count": 66,
      "outputs": [
        {
          "output_type": "stream",
          "text": [
            "[nltk_data] Downloading package punkt to /root/nltk_data...\n",
            "[nltk_data]   Unzipping tokenizers/punkt.zip.\n"
          ],
          "name": "stdout"
        },
        {
          "output_type": "execute_result",
          "data": {
            "text/plain": [
              "True"
            ]
          },
          "metadata": {
            "tags": []
          },
          "execution_count": 66
        }
      ]
    },
    {
      "metadata": {
        "id": "nUlnhOw96iwo",
        "colab_type": "code",
        "colab": {}
      },
      "cell_type": "code",
      "source": [
        "lem_corpus_words = {}\n",
        "class_words = {}\n",
        "classes = list(set(training['Industry Classifications']))\n",
        "for c in classes:\n",
        "    # prepare a list of words within each class\n",
        "    class_words[c] = []\n",
        "\n",
        "# loop through each sentence in our training data\n",
        "for i in range(len(training)):\n",
        "    # tokenize each sentence into words\n",
        "    for word in nltk.word_tokenize(training.iloc[i]['Business Description']):\n",
        "              \n",
        "        if word not in lem_corpus_words:\n",
        "            lem_corpus_words[word] = 1\n",
        "        else:\n",
        "            lem_corpus_words[word] += 1\n",
        "                \n",
        "        class_words[training.iloc[i]['Industry Classifications']].extend([word])\n",
        "            \n",
        "          \n",
        "\n"
      ],
      "execution_count": 0,
      "outputs": []
    },
    {
      "metadata": {
        "id": "08EvHMEY1Pxz",
        "colab_type": "text"
      },
      "cell_type": "markdown",
      "source": [
        "A function to compute the industry class scores for each classes."
      ]
    },
    {
      "metadata": {
        "id": "PH5l831waMEa",
        "colab_type": "code",
        "colab": {}
      },
      "cell_type": "code",
      "source": [
        "def calculate_ind_score(sentence, class_name):\n",
        "    score = 0\n",
        "    # tokenize each word in our new sentence\n",
        "    for word in nltk.word_tokenize(sentence):\n",
        "        # check to see if the stem of the word is in any of our classes\n",
        "        if word in class_words[class_name]:\n",
        "            # treat each word with relative weight\n",
        "            score += (1 / lem_corpus_words[word])\n",
        "      \n",
        "    return score"
      ],
      "execution_count": 0,
      "outputs": []
    },
    {
      "metadata": {
        "id": "X_E1dmIj1XPz",
        "colab_type": "text"
      },
      "cell_type": "markdown",
      "source": [
        "Final function for predicting the classes based on maximum class scores"
      ]
    },
    {
      "metadata": {
        "id": "frt-1dP5l4fU",
        "colab_type": "code",
        "colab": {}
      },
      "cell_type": "code",
      "source": [
        "def pred_ind_class(df):    \n",
        "    Final_pred=[]\n",
        "    for sentence in df['Business Description']:\n",
        "        pred_Class=[]\n",
        "        pred_score=[]\n",
        "        for c in class_words.keys():\n",
        "            pred_Class.append(c)\n",
        "            pred_score.append(calculate_ind_score(sentence,c))\n",
        "        Final_pred.append(pred_Class[np.argmax(pred_score)])\n",
        "    \n",
        "    return Final_pred "
      ],
      "execution_count": 0,
      "outputs": []
    },
    {
      "metadata": {
        "id": "30AJdwOPqQxA",
        "colab_type": "code",
        "colab": {}
      },
      "cell_type": "code",
      "source": [
        "pred_train = pred_ind_class(training)"
      ],
      "execution_count": 0,
      "outputs": []
    },
    {
      "metadata": {
        "id": "auHLPtu8oC9_",
        "colab_type": "code",
        "outputId": "66490a5b-7147-4f13-aefd-b9a36108a35c",
        "colab": {
          "base_uri": "https://localhost:8080/",
          "height": 34
        }
      },
      "cell_type": "code",
      "source": [
        "(np.sum(pred_train == training['Industry Classifications'])) / len(training)"
      ],
      "execution_count": 85,
      "outputs": [
        {
          "output_type": "execute_result",
          "data": {
            "text/plain": [
              "0.984015984015984"
            ]
          },
          "metadata": {
            "tags": []
          },
          "execution_count": 85
        }
      ]
    },
    {
      "metadata": {
        "id": "k2WL9s-Cwbt-",
        "colab_type": "text"
      },
      "cell_type": "markdown",
      "source": [
        "98.4% accuracy seems to be a good bar for testing. There are over 200 classes and a model acheiving 98% for such classification may be considered a good one."
      ]
    },
    {
      "metadata": {
        "id": "r8mTCyzWoG2l",
        "colab_type": "code",
        "colab": {}
      },
      "cell_type": "code",
      "source": [
        "pred_test = pred_ind_class(testing)"
      ],
      "execution_count": 0,
      "outputs": []
    },
    {
      "metadata": {
        "id": "bL8cO0Y8tclR",
        "colab_type": "code",
        "colab": {}
      },
      "cell_type": "code",
      "source": [
        "final_business_description = comp_desc.parse(0)"
      ],
      "execution_count": 0,
      "outputs": []
    },
    {
      "metadata": {
        "id": "fLvBF6kNt4xL",
        "colab_type": "code",
        "colab": {}
      },
      "cell_type": "code",
      "source": [
        "final_business_description['Industry Classifications']= pred_test"
      ],
      "execution_count": 0,
      "outputs": []
    },
    {
      "metadata": {
        "id": "FoZEZEH0uJF7",
        "colab_type": "code",
        "colab": {}
      },
      "cell_type": "code",
      "source": [
        "final_business_description.to_csv('Final_outcome.csv')"
      ],
      "execution_count": 0,
      "outputs": []
    }
  ]
}